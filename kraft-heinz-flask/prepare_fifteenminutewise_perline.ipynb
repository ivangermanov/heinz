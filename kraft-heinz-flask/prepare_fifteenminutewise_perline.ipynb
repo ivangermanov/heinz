{
 "cells": [
  {
   "cell_type": "code",
   "execution_count": 1,
   "metadata": {},
   "outputs": [],
   "source": [
    "from bench import FeatureInstance as FI\n",
    "import config as cn\n",
    "import os\n",
    "import pandas as pd"
   ]
  },
  {
   "cell_type": "code",
   "execution_count": 2,
   "metadata": {},
   "outputs": [],
   "source": [
    "to_convert_perc = [\"OEE\", \"Performance\", \"Availability\", \"Quality\", \"Line Quality\",  \"LO\"]\n",
    "to_convert_str = [\"Average Speed\", \"Idle (min)\"]\n",
    "to_convert_dollars = [\"LO\"]"
   ]
  },
  {
   "cell_type": "code",
   "execution_count": 4,
   "metadata": {},
   "outputs": [
    {
     "name": "stdout",
     "output_type": "stream",
     "text": [
      "Get quarterhourly stats\n",
      "Get check weigher\n"
     ]
    },
    {
     "ename": "ValueError",
     "evalue": "could not convert string to float: '2,200.0'",
     "output_type": "error",
     "traceback": [
      "\u001b[0;31m---------------------------------------------------------------------------\u001b[0m",
      "\u001b[0;31mValueError\u001b[0m                                Traceback (most recent call last)",
      "\u001b[0;32m/tmp/ipykernel_12728/2473456679.py\u001b[0m in \u001b[0;36m<module>\u001b[0;34m\u001b[0m\n\u001b[1;32m      8\u001b[0m \u001b[0;34m\u001b[0m\u001b[0m\n\u001b[1;32m      9\u001b[0m         \u001b[0;32mfor\u001b[0m \u001b[0mcol\u001b[0m \u001b[0;32min\u001b[0m \u001b[0mto_convert_perc\u001b[0m\u001b[0;34m:\u001b[0m\u001b[0;34m\u001b[0m\u001b[0;34m\u001b[0m\u001b[0m\n\u001b[0;32m---> 10\u001b[0;31m                 \u001b[0mfeature_instance\u001b[0m\u001b[0;34m[\u001b[0m\u001b[0mcol\u001b[0m\u001b[0;34m]\u001b[0m \u001b[0;34m=\u001b[0m \u001b[0mfeature_instance\u001b[0m\u001b[0;34m[\u001b[0m\u001b[0mcol\u001b[0m\u001b[0;34m]\u001b[0m\u001b[0;34m.\u001b[0m\u001b[0mstr\u001b[0m\u001b[0;34m.\u001b[0m\u001b[0mreplace\u001b[0m\u001b[0;34m(\u001b[0m\u001b[0;34m\"%\"\u001b[0m\u001b[0;34m,\u001b[0m \u001b[0;34m\"\"\u001b[0m\u001b[0;34m)\u001b[0m\u001b[0;34m.\u001b[0m\u001b[0mastype\u001b[0m\u001b[0;34m(\u001b[0m\u001b[0mfloat\u001b[0m\u001b[0;34m)\u001b[0m\u001b[0;34m\u001b[0m\u001b[0;34m\u001b[0m\u001b[0m\n\u001b[0m\u001b[1;32m     11\u001b[0m         \u001b[0;32mfor\u001b[0m \u001b[0mcol\u001b[0m \u001b[0;32min\u001b[0m \u001b[0mto_convert_str\u001b[0m\u001b[0;34m:\u001b[0m\u001b[0;34m\u001b[0m\u001b[0;34m\u001b[0m\u001b[0m\n\u001b[1;32m     12\u001b[0m                 \u001b[0mfeature_instance\u001b[0m\u001b[0;34m[\u001b[0m\u001b[0mcol\u001b[0m\u001b[0;34m]\u001b[0m \u001b[0;34m=\u001b[0m \u001b[0mfeature_instance\u001b[0m\u001b[0;34m[\u001b[0m\u001b[0mcol\u001b[0m\u001b[0;34m]\u001b[0m\u001b[0;34m.\u001b[0m\u001b[0mastype\u001b[0m\u001b[0;34m(\u001b[0m\u001b[0mfloat\u001b[0m\u001b[0;34m)\u001b[0m\u001b[0;34m\u001b[0m\u001b[0;34m\u001b[0m\u001b[0m\n",
      "\u001b[0;32m~/.local/share/virtualenvs/kraft-heinz-flask-Uj1kDj28/lib/python3.8/site-packages/pandas/core/generic.py\u001b[0m in \u001b[0;36mastype\u001b[0;34m(self, dtype, copy, errors)\u001b[0m\n\u001b[1;32m   5813\u001b[0m         \u001b[0;32melse\u001b[0m\u001b[0;34m:\u001b[0m\u001b[0;34m\u001b[0m\u001b[0;34m\u001b[0m\u001b[0m\n\u001b[1;32m   5814\u001b[0m             \u001b[0;31m# else, only a single dtype is given\u001b[0m\u001b[0;34m\u001b[0m\u001b[0;34m\u001b[0m\u001b[0;34m\u001b[0m\u001b[0m\n\u001b[0;32m-> 5815\u001b[0;31m             \u001b[0mnew_data\u001b[0m \u001b[0;34m=\u001b[0m \u001b[0mself\u001b[0m\u001b[0;34m.\u001b[0m\u001b[0m_mgr\u001b[0m\u001b[0;34m.\u001b[0m\u001b[0mastype\u001b[0m\u001b[0;34m(\u001b[0m\u001b[0mdtype\u001b[0m\u001b[0;34m=\u001b[0m\u001b[0mdtype\u001b[0m\u001b[0;34m,\u001b[0m \u001b[0mcopy\u001b[0m\u001b[0;34m=\u001b[0m\u001b[0mcopy\u001b[0m\u001b[0;34m,\u001b[0m \u001b[0merrors\u001b[0m\u001b[0;34m=\u001b[0m\u001b[0merrors\u001b[0m\u001b[0;34m)\u001b[0m\u001b[0;34m\u001b[0m\u001b[0;34m\u001b[0m\u001b[0m\n\u001b[0m\u001b[1;32m   5816\u001b[0m             \u001b[0;32mreturn\u001b[0m \u001b[0mself\u001b[0m\u001b[0;34m.\u001b[0m\u001b[0m_constructor\u001b[0m\u001b[0;34m(\u001b[0m\u001b[0mnew_data\u001b[0m\u001b[0;34m)\u001b[0m\u001b[0;34m.\u001b[0m\u001b[0m__finalize__\u001b[0m\u001b[0;34m(\u001b[0m\u001b[0mself\u001b[0m\u001b[0;34m,\u001b[0m \u001b[0mmethod\u001b[0m\u001b[0;34m=\u001b[0m\u001b[0;34m\"astype\"\u001b[0m\u001b[0;34m)\u001b[0m\u001b[0;34m\u001b[0m\u001b[0;34m\u001b[0m\u001b[0m\n\u001b[1;32m   5817\u001b[0m \u001b[0;34m\u001b[0m\u001b[0m\n",
      "\u001b[0;32m~/.local/share/virtualenvs/kraft-heinz-flask-Uj1kDj28/lib/python3.8/site-packages/pandas/core/internals/managers.py\u001b[0m in \u001b[0;36mastype\u001b[0;34m(self, dtype, copy, errors)\u001b[0m\n\u001b[1;32m    416\u001b[0m \u001b[0;34m\u001b[0m\u001b[0m\n\u001b[1;32m    417\u001b[0m     \u001b[0;32mdef\u001b[0m \u001b[0mastype\u001b[0m\u001b[0;34m(\u001b[0m\u001b[0mself\u001b[0m\u001b[0;34m:\u001b[0m \u001b[0mT\u001b[0m\u001b[0;34m,\u001b[0m \u001b[0mdtype\u001b[0m\u001b[0;34m,\u001b[0m \u001b[0mcopy\u001b[0m\u001b[0;34m:\u001b[0m \u001b[0mbool\u001b[0m \u001b[0;34m=\u001b[0m \u001b[0;32mFalse\u001b[0m\u001b[0;34m,\u001b[0m \u001b[0merrors\u001b[0m\u001b[0;34m:\u001b[0m \u001b[0mstr\u001b[0m \u001b[0;34m=\u001b[0m \u001b[0;34m\"raise\"\u001b[0m\u001b[0;34m)\u001b[0m \u001b[0;34m->\u001b[0m \u001b[0mT\u001b[0m\u001b[0;34m:\u001b[0m\u001b[0;34m\u001b[0m\u001b[0;34m\u001b[0m\u001b[0m\n\u001b[0;32m--> 418\u001b[0;31m         \u001b[0;32mreturn\u001b[0m \u001b[0mself\u001b[0m\u001b[0;34m.\u001b[0m\u001b[0mapply\u001b[0m\u001b[0;34m(\u001b[0m\u001b[0;34m\"astype\"\u001b[0m\u001b[0;34m,\u001b[0m \u001b[0mdtype\u001b[0m\u001b[0;34m=\u001b[0m\u001b[0mdtype\u001b[0m\u001b[0;34m,\u001b[0m \u001b[0mcopy\u001b[0m\u001b[0;34m=\u001b[0m\u001b[0mcopy\u001b[0m\u001b[0;34m,\u001b[0m \u001b[0merrors\u001b[0m\u001b[0;34m=\u001b[0m\u001b[0merrors\u001b[0m\u001b[0;34m)\u001b[0m\u001b[0;34m\u001b[0m\u001b[0;34m\u001b[0m\u001b[0m\n\u001b[0m\u001b[1;32m    419\u001b[0m \u001b[0;34m\u001b[0m\u001b[0m\n\u001b[1;32m    420\u001b[0m     def convert(\n",
      "\u001b[0;32m~/.local/share/virtualenvs/kraft-heinz-flask-Uj1kDj28/lib/python3.8/site-packages/pandas/core/internals/managers.py\u001b[0m in \u001b[0;36mapply\u001b[0;34m(self, f, align_keys, ignore_failures, **kwargs)\u001b[0m\n\u001b[1;32m    325\u001b[0m                     \u001b[0mapplied\u001b[0m \u001b[0;34m=\u001b[0m \u001b[0mb\u001b[0m\u001b[0;34m.\u001b[0m\u001b[0mapply\u001b[0m\u001b[0;34m(\u001b[0m\u001b[0mf\u001b[0m\u001b[0;34m,\u001b[0m \u001b[0;34m**\u001b[0m\u001b[0mkwargs\u001b[0m\u001b[0;34m)\u001b[0m\u001b[0;34m\u001b[0m\u001b[0;34m\u001b[0m\u001b[0m\n\u001b[1;32m    326\u001b[0m                 \u001b[0;32melse\u001b[0m\u001b[0;34m:\u001b[0m\u001b[0;34m\u001b[0m\u001b[0;34m\u001b[0m\u001b[0m\n\u001b[0;32m--> 327\u001b[0;31m                     \u001b[0mapplied\u001b[0m \u001b[0;34m=\u001b[0m \u001b[0mgetattr\u001b[0m\u001b[0;34m(\u001b[0m\u001b[0mb\u001b[0m\u001b[0;34m,\u001b[0m \u001b[0mf\u001b[0m\u001b[0;34m)\u001b[0m\u001b[0;34m(\u001b[0m\u001b[0;34m**\u001b[0m\u001b[0mkwargs\u001b[0m\u001b[0;34m)\u001b[0m\u001b[0;34m\u001b[0m\u001b[0;34m\u001b[0m\u001b[0m\n\u001b[0m\u001b[1;32m    328\u001b[0m             \u001b[0;32mexcept\u001b[0m \u001b[0;34m(\u001b[0m\u001b[0mTypeError\u001b[0m\u001b[0;34m,\u001b[0m \u001b[0mNotImplementedError\u001b[0m\u001b[0;34m)\u001b[0m\u001b[0;34m:\u001b[0m\u001b[0;34m\u001b[0m\u001b[0;34m\u001b[0m\u001b[0m\n\u001b[1;32m    329\u001b[0m                 \u001b[0;32mif\u001b[0m \u001b[0;32mnot\u001b[0m \u001b[0mignore_failures\u001b[0m\u001b[0;34m:\u001b[0m\u001b[0;34m\u001b[0m\u001b[0;34m\u001b[0m\u001b[0m\n",
      "\u001b[0;32m~/.local/share/virtualenvs/kraft-heinz-flask-Uj1kDj28/lib/python3.8/site-packages/pandas/core/internals/blocks.py\u001b[0m in \u001b[0;36mastype\u001b[0;34m(self, dtype, copy, errors)\u001b[0m\n\u001b[1;32m    589\u001b[0m         \u001b[0mvalues\u001b[0m \u001b[0;34m=\u001b[0m \u001b[0mself\u001b[0m\u001b[0;34m.\u001b[0m\u001b[0mvalues\u001b[0m\u001b[0;34m\u001b[0m\u001b[0;34m\u001b[0m\u001b[0m\n\u001b[1;32m    590\u001b[0m \u001b[0;34m\u001b[0m\u001b[0m\n\u001b[0;32m--> 591\u001b[0;31m         \u001b[0mnew_values\u001b[0m \u001b[0;34m=\u001b[0m \u001b[0mastype_array_safe\u001b[0m\u001b[0;34m(\u001b[0m\u001b[0mvalues\u001b[0m\u001b[0;34m,\u001b[0m \u001b[0mdtype\u001b[0m\u001b[0;34m,\u001b[0m \u001b[0mcopy\u001b[0m\u001b[0;34m=\u001b[0m\u001b[0mcopy\u001b[0m\u001b[0;34m,\u001b[0m \u001b[0merrors\u001b[0m\u001b[0;34m=\u001b[0m\u001b[0merrors\u001b[0m\u001b[0;34m)\u001b[0m\u001b[0;34m\u001b[0m\u001b[0;34m\u001b[0m\u001b[0m\n\u001b[0m\u001b[1;32m    592\u001b[0m \u001b[0;34m\u001b[0m\u001b[0m\n\u001b[1;32m    593\u001b[0m         \u001b[0mnew_values\u001b[0m \u001b[0;34m=\u001b[0m \u001b[0mmaybe_coerce_values\u001b[0m\u001b[0;34m(\u001b[0m\u001b[0mnew_values\u001b[0m\u001b[0;34m)\u001b[0m\u001b[0;34m\u001b[0m\u001b[0;34m\u001b[0m\u001b[0m\n",
      "\u001b[0;32m~/.local/share/virtualenvs/kraft-heinz-flask-Uj1kDj28/lib/python3.8/site-packages/pandas/core/dtypes/cast.py\u001b[0m in \u001b[0;36mastype_array_safe\u001b[0;34m(values, dtype, copy, errors)\u001b[0m\n\u001b[1;32m   1307\u001b[0m \u001b[0;34m\u001b[0m\u001b[0m\n\u001b[1;32m   1308\u001b[0m     \u001b[0;32mtry\u001b[0m\u001b[0;34m:\u001b[0m\u001b[0;34m\u001b[0m\u001b[0;34m\u001b[0m\u001b[0m\n\u001b[0;32m-> 1309\u001b[0;31m         \u001b[0mnew_values\u001b[0m \u001b[0;34m=\u001b[0m \u001b[0mastype_array\u001b[0m\u001b[0;34m(\u001b[0m\u001b[0mvalues\u001b[0m\u001b[0;34m,\u001b[0m \u001b[0mdtype\u001b[0m\u001b[0;34m,\u001b[0m \u001b[0mcopy\u001b[0m\u001b[0;34m=\u001b[0m\u001b[0mcopy\u001b[0m\u001b[0;34m)\u001b[0m\u001b[0;34m\u001b[0m\u001b[0;34m\u001b[0m\u001b[0m\n\u001b[0m\u001b[1;32m   1310\u001b[0m     \u001b[0;32mexcept\u001b[0m \u001b[0;34m(\u001b[0m\u001b[0mValueError\u001b[0m\u001b[0;34m,\u001b[0m \u001b[0mTypeError\u001b[0m\u001b[0;34m)\u001b[0m\u001b[0;34m:\u001b[0m\u001b[0;34m\u001b[0m\u001b[0;34m\u001b[0m\u001b[0m\n\u001b[1;32m   1311\u001b[0m         \u001b[0;31m# e.g. astype_nansafe can fail on object-dtype of strings\u001b[0m\u001b[0;34m\u001b[0m\u001b[0;34m\u001b[0m\u001b[0;34m\u001b[0m\u001b[0m\n",
      "\u001b[0;32m~/.local/share/virtualenvs/kraft-heinz-flask-Uj1kDj28/lib/python3.8/site-packages/pandas/core/dtypes/cast.py\u001b[0m in \u001b[0;36mastype_array\u001b[0;34m(values, dtype, copy)\u001b[0m\n\u001b[1;32m   1255\u001b[0m \u001b[0;34m\u001b[0m\u001b[0m\n\u001b[1;32m   1256\u001b[0m     \u001b[0;32melse\u001b[0m\u001b[0;34m:\u001b[0m\u001b[0;34m\u001b[0m\u001b[0;34m\u001b[0m\u001b[0m\n\u001b[0;32m-> 1257\u001b[0;31m         \u001b[0mvalues\u001b[0m \u001b[0;34m=\u001b[0m \u001b[0mastype_nansafe\u001b[0m\u001b[0;34m(\u001b[0m\u001b[0mvalues\u001b[0m\u001b[0;34m,\u001b[0m \u001b[0mdtype\u001b[0m\u001b[0;34m,\u001b[0m \u001b[0mcopy\u001b[0m\u001b[0;34m=\u001b[0m\u001b[0mcopy\u001b[0m\u001b[0;34m)\u001b[0m\u001b[0;34m\u001b[0m\u001b[0;34m\u001b[0m\u001b[0m\n\u001b[0m\u001b[1;32m   1258\u001b[0m \u001b[0;34m\u001b[0m\u001b[0m\n\u001b[1;32m   1259\u001b[0m     \u001b[0;31m# in pandas we don't store numpy str dtypes, so convert to object\u001b[0m\u001b[0;34m\u001b[0m\u001b[0;34m\u001b[0m\u001b[0;34m\u001b[0m\u001b[0m\n",
      "\u001b[0;32m~/.local/share/virtualenvs/kraft-heinz-flask-Uj1kDj28/lib/python3.8/site-packages/pandas/core/dtypes/cast.py\u001b[0m in \u001b[0;36mastype_nansafe\u001b[0;34m(arr, dtype, copy, skipna)\u001b[0m\n\u001b[1;32m   1199\u001b[0m     \u001b[0;32mif\u001b[0m \u001b[0mcopy\u001b[0m \u001b[0;32mor\u001b[0m \u001b[0mis_object_dtype\u001b[0m\u001b[0;34m(\u001b[0m\u001b[0marr\u001b[0m\u001b[0;34m.\u001b[0m\u001b[0mdtype\u001b[0m\u001b[0;34m)\u001b[0m \u001b[0;32mor\u001b[0m \u001b[0mis_object_dtype\u001b[0m\u001b[0;34m(\u001b[0m\u001b[0mdtype\u001b[0m\u001b[0;34m)\u001b[0m\u001b[0;34m:\u001b[0m\u001b[0;34m\u001b[0m\u001b[0;34m\u001b[0m\u001b[0m\n\u001b[1;32m   1200\u001b[0m         \u001b[0;31m# Explicit copy, or required since NumPy can't view from / to object.\u001b[0m\u001b[0;34m\u001b[0m\u001b[0;34m\u001b[0m\u001b[0;34m\u001b[0m\u001b[0m\n\u001b[0;32m-> 1201\u001b[0;31m         \u001b[0;32mreturn\u001b[0m \u001b[0marr\u001b[0m\u001b[0;34m.\u001b[0m\u001b[0mastype\u001b[0m\u001b[0;34m(\u001b[0m\u001b[0mdtype\u001b[0m\u001b[0;34m,\u001b[0m \u001b[0mcopy\u001b[0m\u001b[0;34m=\u001b[0m\u001b[0;32mTrue\u001b[0m\u001b[0;34m)\u001b[0m\u001b[0;34m\u001b[0m\u001b[0;34m\u001b[0m\u001b[0m\n\u001b[0m\u001b[1;32m   1202\u001b[0m \u001b[0;34m\u001b[0m\u001b[0m\n\u001b[1;32m   1203\u001b[0m     \u001b[0;32mreturn\u001b[0m \u001b[0marr\u001b[0m\u001b[0;34m.\u001b[0m\u001b[0mastype\u001b[0m\u001b[0;34m(\u001b[0m\u001b[0mdtype\u001b[0m\u001b[0;34m,\u001b[0m \u001b[0mcopy\u001b[0m\u001b[0;34m=\u001b[0m\u001b[0mcopy\u001b[0m\u001b[0;34m)\u001b[0m\u001b[0;34m\u001b[0m\u001b[0;34m\u001b[0m\u001b[0m\n",
      "\u001b[0;31mValueError\u001b[0m: could not convert string to float: '2,200.0'"
     ]
    }
   ],
   "source": [
    "for line in range(1, cn.LINE_COUNT):\n",
    "    if line not in cn.LINES_INCOMPLETE:\n",
    "        feature_instance = FI(training=False,\n",
    "                            granular=False,\n",
    "                            on=cn.AI_id,\n",
    "                            quarterly=True,\n",
    "                            line=f\"Line {line}\").fetch(testing_only=False)\n",
    "\n",
    "        for col in to_convert_perc:\n",
    "                feature_instance[col] = feature_instance[col].str.replace(\"%\", \"\").astype(float)\n",
    "        for col in to_convert_str:\n",
    "                feature_instance[col] = feature_instance[col].astype(float)\n",
    "        for col in to_convert_dollars:\n",
    "                feature_instance[col]= feature_instance[col].str.replace(\"$\", \"\").astype(float)\n",
    "                \n",
    "        feature_instance.to_csv(f\"data/preprocessed_format/quarterhourly_perline/Line_{line}.csv\")\n"
   ]
  },
  {
   "cell_type": "code",
   "execution_count": 17,
   "metadata": {},
   "outputs": [
    {
     "data": {
      "text/plain": [
       "1"
      ]
     },
     "execution_count": 17,
     "metadata": {},
     "output_type": "execute_result"
    }
   ],
   "source": [
    "line"
   ]
  },
  {
   "cell_type": "code",
   "execution_count": 10,
   "metadata": {},
   "outputs": [
    {
     "data": {
      "text/plain": [
       "0         90.2%\n",
       "1         96.9%\n",
       "2         86.1%\n",
       "3        114.1%\n",
       "4         85.9%\n",
       "          ...  \n",
       "43193     81.1%\n",
       "43194     82.2%\n",
       "43195     95.1%\n",
       "43196     76.7%\n",
       "43197    101.7%\n",
       "Name: Line Quality, Length: 43198, dtype: object"
      ]
     },
     "execution_count": 10,
     "metadata": {},
     "output_type": "execute_result"
    }
   ],
   "source": [
    "feature_instance[col]"
   ]
  },
  {
   "cell_type": "code",
   "execution_count": 14,
   "metadata": {},
   "outputs": [
    {
     "data": {
      "text/plain": [
       "Line                       object\n",
       "Date               datetime64[ns]\n",
       "Shift                       int64\n",
       "SKU                        object\n",
       "Target                      int64\n",
       "Cases Produced             object\n",
       "Rejects                     int64\n",
       "Line Rejects               object\n",
       "OEE                       float64\n",
       "Performance               float64\n",
       "Availability               object\n",
       "Quality                   float64\n",
       "Line Quality               object\n",
       "Average Speed             float64\n",
       "Stops                       int64\n",
       "DT Events                   int64\n",
       "MTBF                      float64\n",
       "MTBS                      float64\n",
       "Scheduled (min)           float64\n",
       "Uptime (min)               object\n",
       "Starved (min)              object\n",
       "Backed Up (min)           float64\n",
       "Idle (min)                float64\n",
       "Faulted (min)              object\n",
       "LO                         object\n",
       "Unnamed: 0                  int64\n",
       "Unit Weight               float64\n",
       "Overfill                  float64\n",
       "Weight Result               int64\n",
       "dtype: object"
      ]
     },
     "execution_count": 14,
     "metadata": {},
     "output_type": "execute_result"
    }
   ],
   "source": [
    "feature_instance.dtypes"
   ]
  },
  {
   "cell_type": "code",
   "execution_count": 3,
   "metadata": {},
   "outputs": [
    {
     "name": "stdout",
     "output_type": "stream",
     "text": [
      "Get quarterhourly stats\n",
      "Get check weigher\n"
     ]
    }
   ],
   "source": [
    "feature_instance = FI(training=False,\n",
    "                            granular=False,\n",
    "                            on=cn.AI_id,\n",
    "                            quarterly=True,\n",
    "                            line=f\"Line {1}\").fetch(testing_only=False)"
   ]
  },
  {
   "cell_type": "code",
   "execution_count": 9,
   "metadata": {},
   "outputs": [
    {
     "data": {
      "text/plain": [
       "0        65.2\n",
       "1        60.7\n",
       "2        70.6\n",
       "3        57.9\n",
       "4        50.4\n",
       "         ... \n",
       "43193    66.3\n",
       "43194    74.5\n",
       "43195    76.2\n",
       "43196    70.7\n",
       "43197    72.3\n",
       "Name: Performance, Length: 43198, dtype: float64"
      ]
     },
     "execution_count": 9,
     "metadata": {},
     "output_type": "execute_result"
    }
   ],
   "source": [
    "feature_instance[\"Performance\"].str.replace(\"%\", \"\").astype(float)"
   ]
  },
  {
   "cell_type": "code",
   "execution_count": 7,
   "metadata": {},
   "outputs": [
    {
     "data": {
      "text/plain": [
       "{'10000 - 16Z SM HAM&SM TUR DELI KIT 6',\n",
       " '10162 - Nat Salami',\n",
       " '10193 - Smoked Ham',\n",
       " '10194 - Smoked Turkey Vert',\n",
       " '10195 - OR Turkey Vert',\n",
       " '10196 - Rotiss Chicken Vert',\n",
       " '10197 - Honey Ham Vert',\n",
       " '3039 - 7Z OM DELI SHAVED RST BEEF 12',\n",
       " '3054 - 9Z OM DELI SHAVED HNY HAM 12',\n",
       " '3252 - 9Z OM DELI SHV BLK FRST HAM 12',\n",
       " '3407 - 9Z OM HAM&O/R TUR COMBO 12',\n",
       " '3411 - 9Z OM HAM&HNY TUR COMBO 12',\n",
       " '6145 - 8Z OM NATURAL SLO RST TUR 12',\n",
       " '6189 - 7Z OM NATURAL SLO RSTD RST BF 12',\n",
       " '6190 - 8Z OM NTRL SEASONED CHICKEN 12',\n",
       " '6191 - 8Z OM NATURAL APWD SMO TUR 12',\n",
       " '7281 - 8Z OM HNY SMKD MPLE HAM 12',\n",
       " '7353 - 15Z OM VAR PK SMKD HM OR TKY 8',\n",
       " '735300 - 15Z OM VR PK SM HM & ORT 8',\n",
       " '735325 - 15Z OM VAR PK SMKD HM OR TKY 8',\n",
       " '7509 - 22Z OM ROTISSERIE CHICKEN 4',\n",
       " '750900 - 22Z OM ROTISSERIE CHICKEN 4',\n",
       " '750925 - 22Z OM CHKN ROTI CHKN 4',\n",
       " '7635 - 15Z OM DELI FRH VAR PK OV RST TKY 8',\n",
       " '763500 - 15Z OM DF RSTTRKY&HNYHM 8',\n",
       " '763525 - 15Z OM DELI FRH VAR PK OV RST TKY 8',\n",
       " '7908 - 22Z OM HAM HONEY 4',\n",
       " '790800 - 22Z OM HAM HONEY 4',\n",
       " '790825 - 22Z OM HAM HNY 4',\n",
       " '7909 - 22Z OM TURKEY OVEN ROASTED 4',\n",
       " '790900 - 22Z OM TURKEY OVEN ROASTED 4',\n",
       " '790925 - 22Z OM TKY OVEN RST 4',\n",
       " '7910 - 22Z OM TURKEY SMOKED 4',\n",
       " '791000 - 22Z OM TURKEY SMOKED 4',\n",
       " '791025 - 22Z OM TKY SMKD 4',\n",
       " '8689 - 16Z OM DELI FRESH HAM SHAVED HNY 8',\n",
       " '8690 - 16Z OM DELI FRESH TBSHAV OR 8',\n",
       " '8691 - 16Z OM DELI FRESH HAM SMKD SHVD 8',\n",
       " '8699 - 16Z OM DELI FRSH TKY BRST SMK MSQ 8',\n",
       " '8709 - 16Z OM DELI FRESH BLCK FORST HAM 8',\n",
       " '8712 - 16Z OM DELI FRSH TKY BRST HNY SMK 8',\n",
       " '8713 - 16Z OM DELI FRSH TKY BRST SMK SHV 8',\n",
       " '8735 - 22Z OM HONEY SMOKED TURKEY 4',\n",
       " '873525 - 22Z OM DS TY BRST HST 4CT',\n",
       " '8755 - 14Z OM SLCTS HAM APPLEWD SMKD 8',\n",
       " '8756 - 8Z OM SELECTS HONEY HAM 12',\n",
       " '8760 - 8Z OM SELECTS HNY SMKED TURKEY 12',\n",
       " '8762 - 14Z OM SELECTS TKY BREAST SHAVED 8',\n",
       " '9142 - 7Z OM NAE NAT HCK SMK UNCRD HAM 12',\n",
       " '9143 - 7Z OM NAE NAT MESQ SMK TKY BRST 12',\n",
       " '9170 - 8Z OM DELI TKY BRST SHV OV RS LS 12',\n",
       " '9172 - 8Z OM DELI TKY BRST SHVD SMKD LS 12',\n",
       " '9173 - 8Z OM DELI SHAVED HAM LS HONEY 12',\n",
       " '9182 - 8Z OM DELI CHK BRST LS ROTISRIE 12',\n",
       " '9437 - 28Z OM DELI HAM TRKY 4',\n",
       " '9438 - 28Z OM DELI HAM SALAMI 4',\n",
       " '9441 - 28Z OM DELI KIT HNY HAM HNY TRKY 4',\n",
       " '9493 - 7Z OM NAT TRKY HERB NAE 8',\n",
       " '9526 - 7Z OM NAT BUFF CHKN NAE 8',\n",
       " '9613 - 7Z OM DL RST BEEF-SHVD 8CT',\n",
       " '9620 - 9Z OM DL SHVD HM SMKD 8CT',\n",
       " '962025 - 9Z OM DL SHD HAM SMOKED 8CT',\n",
       " '9621 - 9Z OM DL SHVD TRKY BRST OR 8',\n",
       " '9622 - 9Z OM DL SHVD SMKD TKY BST 8',\n",
       " '9623 - 9Z OM DL SHVD HONEY HAM 8CT',\n",
       " '9624 - 8Z OM DL SHVD TRKY BRST MSQT 8CT',\n",
       " '9625 - 9Z OM DL SHD TKY BST HNY SD 8CT',\n",
       " '9626 - Rost Chicken 8 cnt',\n",
       " '9627 - 8Z OM NTRL TRKY BRST RSTD 8CT',\n",
       " '9628 - 8Z OM NTRL HM APLWD SMKD 8CT',\n",
       " '9630 - 8Z Cracked Black Pepper Turkey',\n",
       " '9631 - 8Z OM NRL TRKY BST HNY SKD TRKY 8CT',\n",
       " '9632 - 7Z OM NTURL RST BF RSTD 8CT',\n",
       " '9633 - 8Z OM NTURL CHCKN RTSSR 8CT',\n",
       " '9634 - 8Z OM NRL TKY BST APPLWD SMKD 8CT',\n",
       " '9635 - 8Z OM HNY SMKD HM MPL 8CT',\n",
       " '9638 - 8Z OM NRL HNY HM 8CT',\n",
       " '9643 - 8Z OM DS TB LS OR 8CT',\n",
       " '9645 - 8Z OM DL SHVD TKY BRST LS SMKD 8CT\\t',\n",
       " '9646 - 8Z OM DL SHVD LS HONEY 8CT',\n",
       " '9647 - 8Z OM DL CHCKN BRST LS RTSR 8CT',\n",
       " '9648 - 7Z OM NRL SKD HM NAE HKY SM HAM 8CT',\n",
       " '9649 - 7Z OM NTURL TRKY BST SMKD MSQT 8CT',\n",
       " '9650 - 9Z OM DL SHVD HAM VIRGINIA 8CT',\n",
       " '9653 - 9Z OM DL SHVD HM BLK FRST 8CT',\n",
       " '9657 - 9Z OM DL VRTY PK-CMB HM TURKY 8CT',\n",
       " '9659 - 9Z OM DL VRTY PK HM & TURKY 8CT',\n",
       " '9999 - 16Z OM HON HAM&SM TUR DELI KIT 6'}"
      ]
     },
     "execution_count": 7,
     "metadata": {},
     "output_type": "execute_result"
    }
   ],
   "source": [
    "skus = set()\n",
    "for line in range(1, cn.LINE_COUNT):\n",
    "    if line not in cn.LINES_INCOMPLETE:\n",
    "        df = pd.read_csv(f\"data/preprocessed_format/hourly_perline/Line_{line}.csv\")\n",
    "        skus.update(df[\"SKU\"])\n",
    "\n",
    "skus\n",
    "        "
   ]
  }
 ],
 "metadata": {
  "interpreter": {
   "hash": "f9bdc2695e7946194888fff04f5b3a469e5751feff8a1e0bdfc164e4dfcce867"
  },
  "kernelspec": {
   "display_name": "Python 3.8.10 64-bit ('kraft-heinz-flask-Uj1kDj28': pipenv)",
   "language": "python",
   "name": "python3"
  },
  "language_info": {
   "codemirror_mode": {
    "name": "ipython",
    "version": 3
   },
   "file_extension": ".py",
   "mimetype": "text/x-python",
   "name": "python",
   "nbconvert_exporter": "python",
   "pygments_lexer": "ipython3",
   "version": "3.8.10"
  },
  "orig_nbformat": 4
 },
 "nbformat": 4,
 "nbformat_minor": 2
}
