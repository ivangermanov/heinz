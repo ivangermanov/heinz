{
 "cells": [
  {
   "cell_type": "code",
   "execution_count": 1,
   "metadata": {},
   "outputs": [],
   "source": [
    "from bench import FeatureInstance as FI\n",
    "import config as cn\n",
    "import os\n",
    "import pandas as pd"
   ]
  },
  {
   "cell_type": "code",
   "execution_count": 7,
   "metadata": {},
   "outputs": [],
   "source": [
    "df = pd.read_excel(\"data/original-format/line-stats-quarterly/AI_2021.xlsx\")"
   ]
  },
  {
   "cell_type": "code",
   "execution_count": 8,
   "metadata": {},
   "outputs": [],
   "source": [
    "df.to_csv(\"AI_2021.csv\")"
   ]
  },
  {
   "cell_type": "code",
   "execution_count": 2,
   "metadata": {},
   "outputs": [
    {
     "name": "stdout",
     "output_type": "stream",
     "text": [
      "Get quarterhourly stats\n",
      "Get check weigher\n",
      "Get quarterhourly stats\n",
      "Get check weigher\n",
      "Get quarterhourly stats\n",
      "Get check weigher\n",
      "Get quarterhourly stats\n",
      "Get check weigher\n",
      "Get quarterhourly stats\n",
      "Get check weigher\n",
      "Get quarterhourly stats\n",
      "Get check weigher\n",
      "Get quarterhourly stats\n",
      "Get check weigher\n",
      "Get quarterhourly stats\n",
      "Get check weigher\n",
      "Get quarterhourly stats\n",
      "Get check weigher\n",
      "Get quarterhourly stats\n",
      "Get check weigher\n"
     ]
    }
   ],
   "source": [
    "for line in range(1, cn.LINE_COUNT):\n",
    "    if line not in cn.LINES_INCOMPLETE:\n",
    "        feature_instance = FI(training=False,\n",
    "                            granular=False,\n",
    "                            on=cn.AI_id,\n",
    "                            quarterly=False,\n",
    "                            line=f\"Line {line}\").fetch(testing_only=False)\n",
    "        feature_instance.to_csv(f\"data/preprocessed_format/hourly_perline/Line_{line}.csv\")"
   ]
  },
  {
   "cell_type": "code",
   "execution_count": 5,
   "metadata": {},
   "outputs": [
    {
     "name": "stdout",
     "output_type": "stream",
     "text": [
      "Get hourly stats\n",
      "Get check weigher\n"
     ]
    }
   ],
   "source": [
    "feature_instance = FI(training=False,\n",
    "                            granular=False,\n",
    "                            on=cn.AI_id,\n",
    "                            quarterly=False,\n",
    "                            line=f\"Line {1}\").fetch(testing_only=False)"
   ]
  },
  {
   "cell_type": "code",
   "execution_count": 7,
   "metadata": {},
   "outputs": [
    {
     "data": {
      "text/plain": [
       "Index(['Line', 'Date', 'Shift', 'SKU', 'Target', 'Cases Produced', 'Rejects',\n",
       "       'OEE', 'Performance', 'Availability', 'Quality', 'Average Speed',\n",
       "       'Stops', 'DT Events', 'MTBF', 'MTBS', 'Scheduled (min)', 'Uptime (min)',\n",
       "       'Starved (min)', 'Backed Up (min)', 'Idle (min)', 'Faulted (min)', 'LO',\n",
       "       'Unnamed: 0', 'Unit Weight', 'Overfill', 'Weight Result'],\n",
       "      dtype='object')"
      ]
     },
     "execution_count": 7,
     "metadata": {},
     "output_type": "execute_result"
    }
   ],
   "source": [
    "feature_instance.columns"
   ]
  },
  {
   "cell_type": "code",
   "execution_count": 7,
   "metadata": {},
   "outputs": [
    {
     "data": {
      "text/plain": [
       "{'10000 - 16Z SM HAM&SM TUR DELI KIT 6',\n",
       " '10162 - Nat Salami',\n",
       " '10193 - Smoked Ham',\n",
       " '10194 - Smoked Turkey Vert',\n",
       " '10195 - OR Turkey Vert',\n",
       " '10196 - Rotiss Chicken Vert',\n",
       " '10197 - Honey Ham Vert',\n",
       " '3039 - 7Z OM DELI SHAVED RST BEEF 12',\n",
       " '3054 - 9Z OM DELI SHAVED HNY HAM 12',\n",
       " '3252 - 9Z OM DELI SHV BLK FRST HAM 12',\n",
       " '3407 - 9Z OM HAM&O/R TUR COMBO 12',\n",
       " '3411 - 9Z OM HAM&HNY TUR COMBO 12',\n",
       " '6145 - 8Z OM NATURAL SLO RST TUR 12',\n",
       " '6189 - 7Z OM NATURAL SLO RSTD RST BF 12',\n",
       " '6190 - 8Z OM NTRL SEASONED CHICKEN 12',\n",
       " '6191 - 8Z OM NATURAL APWD SMO TUR 12',\n",
       " '7281 - 8Z OM HNY SMKD MPLE HAM 12',\n",
       " '7353 - 15Z OM VAR PK SMKD HM OR TKY 8',\n",
       " '735300 - 15Z OM VR PK SM HM & ORT 8',\n",
       " '735325 - 15Z OM VAR PK SMKD HM OR TKY 8',\n",
       " '7509 - 22Z OM ROTISSERIE CHICKEN 4',\n",
       " '750900 - 22Z OM ROTISSERIE CHICKEN 4',\n",
       " '750925 - 22Z OM CHKN ROTI CHKN 4',\n",
       " '7635 - 15Z OM DELI FRH VAR PK OV RST TKY 8',\n",
       " '763500 - 15Z OM DF RSTTRKY&HNYHM 8',\n",
       " '763525 - 15Z OM DELI FRH VAR PK OV RST TKY 8',\n",
       " '7908 - 22Z OM HAM HONEY 4',\n",
       " '790800 - 22Z OM HAM HONEY 4',\n",
       " '790825 - 22Z OM HAM HNY 4',\n",
       " '7909 - 22Z OM TURKEY OVEN ROASTED 4',\n",
       " '790900 - 22Z OM TURKEY OVEN ROASTED 4',\n",
       " '790925 - 22Z OM TKY OVEN RST 4',\n",
       " '7910 - 22Z OM TURKEY SMOKED 4',\n",
       " '791000 - 22Z OM TURKEY SMOKED 4',\n",
       " '791025 - 22Z OM TKY SMKD 4',\n",
       " '8689 - 16Z OM DELI FRESH HAM SHAVED HNY 8',\n",
       " '8690 - 16Z OM DELI FRESH TBSHAV OR 8',\n",
       " '8691 - 16Z OM DELI FRESH HAM SMKD SHVD 8',\n",
       " '8699 - 16Z OM DELI FRSH TKY BRST SMK MSQ 8',\n",
       " '8709 - 16Z OM DELI FRESH BLCK FORST HAM 8',\n",
       " '8712 - 16Z OM DELI FRSH TKY BRST HNY SMK 8',\n",
       " '8713 - 16Z OM DELI FRSH TKY BRST SMK SHV 8',\n",
       " '8735 - 22Z OM HONEY SMOKED TURKEY 4',\n",
       " '873525 - 22Z OM DS TY BRST HST 4CT',\n",
       " '8755 - 14Z OM SLCTS HAM APPLEWD SMKD 8',\n",
       " '8756 - 8Z OM SELECTS HONEY HAM 12',\n",
       " '8760 - 8Z OM SELECTS HNY SMKED TURKEY 12',\n",
       " '8762 - 14Z OM SELECTS TKY BREAST SHAVED 8',\n",
       " '9142 - 7Z OM NAE NAT HCK SMK UNCRD HAM 12',\n",
       " '9143 - 7Z OM NAE NAT MESQ SMK TKY BRST 12',\n",
       " '9170 - 8Z OM DELI TKY BRST SHV OV RS LS 12',\n",
       " '9172 - 8Z OM DELI TKY BRST SHVD SMKD LS 12',\n",
       " '9173 - 8Z OM DELI SHAVED HAM LS HONEY 12',\n",
       " '9182 - 8Z OM DELI CHK BRST LS ROTISRIE 12',\n",
       " '9437 - 28Z OM DELI HAM TRKY 4',\n",
       " '9438 - 28Z OM DELI HAM SALAMI 4',\n",
       " '9441 - 28Z OM DELI KIT HNY HAM HNY TRKY 4',\n",
       " '9493 - 7Z OM NAT TRKY HERB NAE 8',\n",
       " '9526 - 7Z OM NAT BUFF CHKN NAE 8',\n",
       " '9613 - 7Z OM DL RST BEEF-SHVD 8CT',\n",
       " '9620 - 9Z OM DL SHVD HM SMKD 8CT',\n",
       " '962025 - 9Z OM DL SHD HAM SMOKED 8CT',\n",
       " '9621 - 9Z OM DL SHVD TRKY BRST OR 8',\n",
       " '9622 - 9Z OM DL SHVD SMKD TKY BST 8',\n",
       " '9623 - 9Z OM DL SHVD HONEY HAM 8CT',\n",
       " '9624 - 8Z OM DL SHVD TRKY BRST MSQT 8CT',\n",
       " '9625 - 9Z OM DL SHD TKY BST HNY SD 8CT',\n",
       " '9626 - Rost Chicken 8 cnt',\n",
       " '9627 - 8Z OM NTRL TRKY BRST RSTD 8CT',\n",
       " '9628 - 8Z OM NTRL HM APLWD SMKD 8CT',\n",
       " '9630 - 8Z Cracked Black Pepper Turkey',\n",
       " '9631 - 8Z OM NRL TRKY BST HNY SKD TRKY 8CT',\n",
       " '9632 - 7Z OM NTURL RST BF RSTD 8CT',\n",
       " '9633 - 8Z OM NTURL CHCKN RTSSR 8CT',\n",
       " '9634 - 8Z OM NRL TKY BST APPLWD SMKD 8CT',\n",
       " '9635 - 8Z OM HNY SMKD HM MPL 8CT',\n",
       " '9638 - 8Z OM NRL HNY HM 8CT',\n",
       " '9643 - 8Z OM DS TB LS OR 8CT',\n",
       " '9645 - 8Z OM DL SHVD TKY BRST LS SMKD 8CT\\t',\n",
       " '9646 - 8Z OM DL SHVD LS HONEY 8CT',\n",
       " '9647 - 8Z OM DL CHCKN BRST LS RTSR 8CT',\n",
       " '9648 - 7Z OM NRL SKD HM NAE HKY SM HAM 8CT',\n",
       " '9649 - 7Z OM NTURL TRKY BST SMKD MSQT 8CT',\n",
       " '9650 - 9Z OM DL SHVD HAM VIRGINIA 8CT',\n",
       " '9653 - 9Z OM DL SHVD HM BLK FRST 8CT',\n",
       " '9657 - 9Z OM DL VRTY PK-CMB HM TURKY 8CT',\n",
       " '9659 - 9Z OM DL VRTY PK HM & TURKY 8CT',\n",
       " '9999 - 16Z OM HON HAM&SM TUR DELI KIT 6'}"
      ]
     },
     "execution_count": 7,
     "metadata": {},
     "output_type": "execute_result"
    }
   ],
   "source": [
    "skus = set()\n",
    "for line in range(1, cn.LINE_COUNT):\n",
    "    if line not in cn.LINES_INCOMPLETE:\n",
    "        df = pd.read_csv(f\"data/preprocessed_format/hourly_perline/Line_{line}.csv\")\n",
    "        skus.update(df[\"SKU\"])\n",
    "\n",
    "skus\n",
    "        "
   ]
  }
 ],
 "metadata": {
  "interpreter": {
   "hash": "f9bdc2695e7946194888fff04f5b3a469e5751feff8a1e0bdfc164e4dfcce867"
  },
  "kernelspec": {
   "display_name": "Python 3.8.10 64-bit ('kraft-heinz-flask-Uj1kDj28': pipenv)",
   "language": "python",
   "name": "python3"
  },
  "language_info": {
   "codemirror_mode": {
    "name": "ipython",
    "version": 3
   },
   "file_extension": ".py",
   "mimetype": "text/x-python",
   "name": "python",
   "nbconvert_exporter": "python",
   "pygments_lexer": "ipython3",
   "version": "3.8.10"
  },
  "orig_nbformat": 4
 },
 "nbformat": 4,
 "nbformat_minor": 2
}
